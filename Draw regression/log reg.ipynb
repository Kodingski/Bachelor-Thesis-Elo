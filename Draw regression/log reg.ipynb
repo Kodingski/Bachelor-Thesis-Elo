{
 "cells": [
  {
   "cell_type": "code",
   "execution_count": 38,
   "metadata": {},
   "outputs": [
    {
     "name": "stdout",
     "output_type": "stream",
     "text": [
      "[[  6.26830851e-01   2.09627000e+03]\n",
      " [  6.24219842e-01   2.10150000e+03]\n",
      " [  6.23335891e-01   2.10075000e+03]\n",
      " ..., \n",
      " [  5.46084012e-01   2.03330000e+03]\n",
      " [  6.39225759e-01   2.15867000e+03]\n",
      " [  6.00332088e-01   2.32462000e+03]]\n",
      "Optimization terminated successfully.\n",
      "         Current function value: 0.562218\n",
      "         Iterations 5\n",
      "                           Logit Regression Results                           \n",
      "==============================================================================\n",
      "Dep. Variable:                      y   No. Observations:                21374\n",
      "Model:                          Logit   Df Residuals:                    21372\n",
      "Method:                           MLE   Df Model:                            1\n",
      "Date:                Fri, 17 Aug 2018   Pseudo R-squ.:                0.005133\n",
      "Time:                        15:35:41   Log-Likelihood:                -12017.\n",
      "converged:                       True   LL-Null:                       -12079.\n",
      "                                        LLR p-value:                 8.400e-29\n",
      "==============================================================================\n",
      "                 coef    std err          z      P>|z|      [0.025      0.975]\n",
      "------------------------------------------------------------------------------\n",
      "x1            -1.6619      0.177     -9.372      0.000      -2.010      -1.314\n",
      "x2         -6.799e-06   5.33e-05     -0.127      0.899      -0.000    9.78e-05\n",
      "==============================================================================\n",
      "0.735965568862\n"
     ]
    }
   ],
   "source": [
    "import numpy as np # linear algebra\n",
    "import pandas as pd # data processing, CSV file I/O (e.g. pd.read_csv)\n",
    "import warnings\n",
    "warnings.filterwarnings('ignore')\n",
    "import matplotlib.pyplot as plt\n",
    "import seaborn as sns\n",
    "%matplotlib inline\n",
    "\n",
    "\n",
    "dataset = pd.read_csv('drawdataregthesis.csv',sep=';')\n",
    "\n",
    "dataset.columns\n",
    "\n",
    "\n",
    "x = dataset.iloc[:,0:2].values\n",
    "print(x)\n",
    "y = dataset.iloc[:,2].values\n",
    "\n",
    "\n",
    "\n",
    "import statsmodels.api as sm\n",
    "logit_model=sm.Logit(y,x)\n",
    "result=logit_model.fit()\n",
    "print(result.summary())\n",
    "\n",
    "\n",
    "# Split the data into Training and Testing set\n",
    "from sklearn.cross_validation import train_test_split\n",
    "x_train,x_test,y_train,y_test = train_test_split(x,y,test_size=0.25,random_state=0)\n",
    "\n",
    "# Feature scaling\n",
    "from sklearn.preprocessing import StandardScaler\n",
    "sc = StandardScaler()\n",
    "\n",
    "\n",
    "x_train = sc.fit_transform(x_train)\n",
    "x_test = sc.fit_transform(x_test)\n",
    "\n",
    "from sklearn.linear_model import LogisticRegression\n",
    "classifier = LogisticRegression(random_state = 0)\n",
    "classifier.fit(x_train,y_train)\n",
    "\n",
    "y_pred = classifier.predict(x_test)\n",
    "\n",
    "# Making the confusion matrix \n",
    "from sklearn.metrics import confusion_matrix\n",
    "cm = confusion_matrix(y_test,y_pred)\n",
    "\n",
    "from sklearn import metrics\n",
    "print (metrics.accuracy_score(y_test,classifier.predict(x_test)))"
   ]
  },
  {
   "cell_type": "code",
   "execution_count": null,
   "metadata": {
    "collapsed": true
   },
   "outputs": [],
   "source": []
  },
  {
   "cell_type": "code",
   "execution_count": null,
   "metadata": {
    "collapsed": true
   },
   "outputs": [],
   "source": []
  }
 ],
 "metadata": {
  "kernelspec": {
   "display_name": "Python 3",
   "language": "python",
   "name": "python3"
  },
  "language_info": {
   "codemirror_mode": {
    "name": "ipython",
    "version": 3
   },
   "file_extension": ".py",
   "mimetype": "text/x-python",
   "name": "python",
   "nbconvert_exporter": "python",
   "pygments_lexer": "ipython3",
   "version": "3.6.1"
  }
 },
 "nbformat": 4,
 "nbformat_minor": 2
}
