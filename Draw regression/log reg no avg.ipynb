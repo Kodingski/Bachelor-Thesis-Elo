{
 "cells": [
  {
   "cell_type": "code",
   "execution_count": 28,
   "metadata": {},
   "outputs": [],
   "source": [
    "import numpy as np # linear algebra\n",
    "import pandas as pd # data processing, CSV file I/O (e.g. pd.read_csv)\n",
    "import warnings\n",
    "warnings.filterwarnings('ignore')\n",
    "import matplotlib.pyplot as plt\n",
    "import seaborn as sns\n",
    "%matplotlib inline\n",
    "\n",
    "\n",
    "dataset = pd.read_csv('drawdataregthesisnoavg.csv',sep=';')\n",
    "\n",
    "\n",
    "\n"
   ]
  },
  {
   "cell_type": "code",
   "execution_count": 29,
   "metadata": {
    "scrolled": true
   },
   "outputs": [
    {
     "name": "stdout",
     "output_type": "stream",
     "text": [
      "[[ 0.62683085]\n",
      " [ 0.62421984]\n",
      " [ 0.62333589]\n",
      " ..., \n",
      " [ 0.54608401]\n",
      " [ 0.63922576]\n",
      " [ 0.60033209]]\n"
     ]
    }
   ],
   "source": [
    "\n",
    "x = dataset.iloc[:,0:1].values\n",
    "print(x)\n",
    "y = dataset.iloc[:,1].values\n",
    "\n",
    "\n"
   ]
  },
  {
   "cell_type": "code",
   "execution_count": 30,
   "metadata": {
    "scrolled": true
   },
   "outputs": [
    {
     "name": "stdout",
     "output_type": "stream",
     "text": [
      "Optimization terminated successfully.\n",
      "         Current function value: 0.562219\n",
      "         Iterations 5\n",
      "                           Logit Regression Results                           \n",
      "==============================================================================\n",
      "Dep. Variable:                      y   No. Observations:                21374\n",
      "Model:                          Logit   Df Residuals:                    21373\n",
      "Method:                           MLE   Df Model:                            0\n",
      "Date:                Fri, 17 Aug 2018   Pseudo R-squ.:                0.005132\n",
      "Time:                        15:36:37   Log-Likelihood:                -12017.\n",
      "converged:                       True   LL-Null:                       -12079.\n",
      "                                        LLR p-value:                       nan\n",
      "==============================================================================\n",
      "                 coef    std err          z      P>|z|      [0.025      0.975]\n",
      "------------------------------------------------------------------------------\n",
      "x1            -1.6843      0.024    -69.229      0.000      -1.732      -1.637\n",
      "==============================================================================\n"
     ]
    }
   ],
   "source": [
    "\n",
    "import statsmodels.api as sm\n",
    "logit_model=sm.Logit(y,x)\n",
    "result=logit_model.fit()\n",
    "print(result.summary())\n",
    "\n",
    "\n"
   ]
  },
  {
   "cell_type": "code",
   "execution_count": null,
   "metadata": {
    "collapsed": true
   },
   "outputs": [],
   "source": []
  },
  {
   "cell_type": "code",
   "execution_count": 32,
   "metadata": {},
   "outputs": [
    {
     "name": "stdout",
     "output_type": "stream",
     "text": [
      "[[ 0.21169513]\n",
      " [-0.37801734]\n",
      " [-0.98503086]\n",
      " ..., \n",
      " [ 0.70739167]\n",
      " [-0.00787264]\n",
      " [ 1.18421604]]\n",
      "0.735965568862\n"
     ]
    }
   ],
   "source": [
    "# Split the data into Training and Testing set\n",
    "from sklearn.cross_validation import train_test_split\n",
    "x_train,x_test,y_train,y_test = train_test_split(x,y,test_size=0.25,random_state=0)\n",
    "\n",
    "# Feature scaling\n",
    "from sklearn.preprocessing import StandardScaler\n",
    "sc = StandardScaler()\n",
    "\n",
    "\n",
    "x_train = sc.fit_transform(x_train)\n",
    "print(x_train)\n",
    "x_test = sc.fit_transform(x_test)\n",
    "\n",
    "from sklearn.linear_model import LogisticRegression\n",
    "classifier = LogisticRegression(random_state = 0)\n",
    "classifier.fit(x_train,y_train)\n",
    "\n",
    "y_pred = classifier.predict(x_test)\n",
    "\n",
    "# Making the confusion matrix \n",
    "from sklearn.metrics import confusion_matrix\n",
    "cm = confusion_matrix(y_test,y_pred)\n",
    "\n",
    "from sklearn import metrics\n",
    "print (metrics.accuracy_score(y_test,classifier.predict(x_test)))"
   ]
  },
  {
   "cell_type": "code",
   "execution_count": null,
   "metadata": {
    "collapsed": true
   },
   "outputs": [],
   "source": []
  }
 ],
 "metadata": {
  "kernelspec": {
   "display_name": "Python 3",
   "language": "python",
   "name": "python3"
  },
  "language_info": {
   "codemirror_mode": {
    "name": "ipython",
    "version": 3
   },
   "file_extension": ".py",
   "mimetype": "text/x-python",
   "name": "python",
   "nbconvert_exporter": "python",
   "pygments_lexer": "ipython3",
   "version": "3.6.1"
  }
 },
 "nbformat": 4,
 "nbformat_minor": 2
}
